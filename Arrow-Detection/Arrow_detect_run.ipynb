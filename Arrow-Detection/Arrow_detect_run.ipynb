{
 "cells": [
  {
   "cell_type": "markdown",
   "metadata": {
    "colab_type": "text",
    "id": "TzlyU5nrvpWp"
   },
   "source": [
    "## **Arrow Detection with Direction**"
   ]
  },
  {
   "cell_type": "markdown",
   "metadata": {
    "colab_type": "text",
    "id": "YLjAfhqxxOPq"
   },
   "source": [
    "Import Libraries"
   ]
  },
  {
   "cell_type": "code",
   "execution_count": null,
   "metadata": {
    "colab": {},
    "colab_type": "code",
    "id": "mXfHdocv7pq7"
   },
   "outputs": [],
   "source": [
    "import numpy as np\n",
    "import matplotlib.pyplot as plt\n",
    "from PIL import Image\n",
    "from keras import Sequential\n",
    "from keras.layers import Dense\n",
    "from keras.models import Model\n",
    "from keras.layers import Conv2D, MaxPool2D,  \\\n",
    "    Dropout, Dense, Input, concatenate,      \\\n",
    "    GlobalAveragePooling2D, AveragePooling2D,\\\n",
    "    Flatten, Conv2DTranspose\n",
    "\n",
    "import cv2 \n",
    "import numpy as np \n",
    "import math \n",
    "\n",
    "print(tf.__version__)"
   ]
  },
  {
   "cell_type": "markdown",
   "metadata": {
    "colab_type": "text",
    "id": "eObs1ZkFyjUF"
   },
   "source": [
    "Define Network"
   ]
  },
  {
   "cell_type": "code",
   "execution_count": null,
   "metadata": {
    "colab": {},
    "colab_type": "code",
    "id": "SlLUP1wf-bPH"
   },
   "outputs": [],
   "source": [
    "in_size = 16\n",
    "x = keras.layers.Input(shape=(160, 160, 3))\n",
    "\n",
    "gen1 = keras.layers.Conv2D(8, (4, 4), padding = 'SAME', activation = 'relu')(x)\n",
    "P1 = keras.layers.MaxPooling2D(2, padding = 'SAME')(gen1)\n",
    "\n",
    "gen2 = keras.layers.Conv2D(16, (4, 4), padding = 'SAME', activation = 'relu')(P1)\n",
    "P2 = keras.layers.MaxPooling2D(4, padding = 'SAME')(gen2)\n",
    "\n",
    "gen3 = keras.layers.Conv2D(32, (4, 4), padding = 'SAME', activation = 'relu')(P2)\n",
    "P3 = keras.layers.MaxPooling2D(2, padding = 'SAME')(gen3)\n",
    "\n",
    "gen4 = keras.layers.Conv2D(16, (4, 4), padding = 'SAME', activation = 'relu')(P3)\n",
    "P4 = keras.layers.MaxPooling2D(4, padding = 'SAME')(gen4)\n",
    "\n",
    "gen4 = keras.layers.Conv2D(8, (4, 4), padding = 'SAME', activation = 'sigmoid')(P4)\n",
    "P4 = keras.layers.MaxPooling2D(2, padding = 'SAME')(gen4)\n",
    "\n",
    "x4 = keras.layers.Flatten()(P4)\n",
    "x5 = keras.layers.Dense(3, activation = 'softmax')(x4)\n",
    "\n",
    "model = keras.models.Model([x], x5)\n",
    "model.summary()\n",
    "\n",
    "model.compile(optimizer='adam', loss='sparse_categorical_crossentropy', metrics=['accuracy'])\n"
   ]
  },
  {
   "cell_type": "markdown",
   "metadata": {
    "colab_type": "text",
    "id": "XMMWheM3yo_i"
   },
   "source": [
    "Load pretrained model"
   ]
  },
  {
   "cell_type": "code",
   "execution_count": null,
   "metadata": {},
   "outputs": [],
   "source": [
    "model = keras.models.load_model('/home/aashish/Downloads/image_upscaling/edge_detection/Arrow224/Arrow224/arrow.h5')"
   ]
  },
  {
   "cell_type": "markdown",
   "metadata": {
    "colab_type": "text",
    "id": "7jzFIS9Oyr2p"
   },
   "source": [
    "Test Webcam footage"
   ]
  },
  {
   "cell_type": "code",
   "execution_count": null,
   "metadata": {
    "colab": {},
    "colab_type": "code",
    "id": "KiEe3OqQ7prj"
   },
   "outputs": [],
   "source": [
    "#img = Image.open('/home/aashish/Downloads/image_upscaling/edge_detection/Arrow224/Arrow224/test/left/L8.jpg')\n",
    "video_capture = cv2.VideoCapture(0)\n",
    "while True:\n",
    "    ret, frame = video_capture.read()\n",
    "    #img.load\n",
    "    #plt.imshow(img)\n",
    "    #plt.show()\n",
    "    img = frame\n",
    "    #img = img.resize((160, 160), Image.ANTIALIAS)\n",
    "    npimg = np.asarray(img, dtype=\"uint8\" )\n",
    "    print('shape', np.shape(npimg))\n",
    "    test_image = np.resize(npimg, (1, 160, 160, 3))\n",
    "    print('shape', np.shape(test_image))\n",
    "    predictions = model.predict(test_image)\n",
    "    print(predictions)\n",
    "    classes = ['L', 'R', 'N']\n",
    "    print(classes[np.argmax(predictions)])\n",
    "    font = cv2.FONT_HERSHEY_SIMPLEX \n",
    "    org = (50, 50) \n",
    "    fontScale = 1\n",
    "    color = (255, 0, 0) \n",
    "    thickness = 2\n",
    "    cv2.putText(frame,classes[np.argmax(predictions)], org, font, fontScale, color, thickness, cv2.LINE_AA)\n",
    "    cv2.imshow('Frame', frame)\n",
    "    if cv2.waitKey(1) & 0xFF == ord('q'):\n",
    "        break\n",
    "        \n",
    "video_capture.release()\n",
    "cv2.destroyAllWindows()"
   ]
  },
  {
   "cell_type": "code",
   "execution_count": null,
   "metadata": {},
   "outputs": [],
   "source": []
  }
 ],
 "metadata": {
  "accelerator": "GPU",
  "colab": {
   "machine_shape": "hm",
   "name": "arroy_detect_Copy1_(1) (2).ipynb",
   "provenance": []
  },
  "kernelspec": {
   "display_name": "Python 3",
   "language": "python",
   "name": "python3"
  },
  "language_info": {
   "codemirror_mode": {
    "name": "ipython",
    "version": 3
   },
   "file_extension": ".py",
   "mimetype": "text/x-python",
   "name": "python",
   "nbconvert_exporter": "python",
   "pygments_lexer": "ipython3",
   "version": "3.6.8"
  }
 },
 "nbformat": 4,
 "nbformat_minor": 1
}
