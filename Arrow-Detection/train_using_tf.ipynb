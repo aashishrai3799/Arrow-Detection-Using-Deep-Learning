{
  "nbformat": 4,
  "nbformat_minor": 0,
  "metadata": {
    "colab": {
      "name": "my_model_notebook.ipynb",
      "provenance": [],
      "collapsed_sections": [],
      "toc_visible": true,
      "machine_shape": "hm"
    },
    "kernelspec": {
      "name": "python3",
      "display_name": "Python 3"
    },
    "accelerator": "GPU"
  },
  "cells": [
    {
      "cell_type": "code",
      "metadata": {
        "id": "SkdCdw9FG3ix",
        "colab_type": "code",
        "colab": {}
      },
      "source": [
        "%matplotlib inline\n",
        "\n",
        "import time\n",
        "import matplotlib.pyplot as plt\n",
        "import numpy as np\n",
        "import tensorflow as tf\n",
        "import os\n",
        "import numpy as np\n",
        "import random\n",
        "from PIL import Image\n",
        "import PIL\n",
        "from tensorflow.python.framework import ops\n",
        "import math\n",
        "from urllib.request import urlretrieve\n",
        "from os.path import isfile, isdir\n",
        "from tqdm import tqdm\n",
        "\n",
        "\n",
        "# Use second GPU -- change if you want to use a first one\n",
        "os.environ[\"CUDA_VISIBLE_DEVICES\"] = '0'\n",
        "print(tf.__version__)"
      ],
      "execution_count": 0,
      "outputs": []
    },
    {
      "cell_type": "markdown",
      "metadata": {
        "id": "7K70NaXPF71P",
        "colab_type": "text"
      },
      "source": [
        "### Define number of train and test images"
      ]
    },
    {
      "cell_type": "code",
      "metadata": {
        "id": "cJIFnGULyjNs",
        "colab_type": "code",
        "colab": {}
      },
      "source": [
        "train_size = 704\n",
        "#test_size = 3690"
      ],
      "execution_count": 0,
      "outputs": []
    },
    {
      "cell_type": "markdown",
      "metadata": {
        "id": "Nr3_UbcxGD6U",
        "colab_type": "text"
      },
      "source": [
        "## Generate and save Train Data"
      ]
    },
    {
      "cell_type": "code",
      "metadata": {
        "id": "X6FTLkMczMr5",
        "colab_type": "code",
        "colab": {}
      },
      "source": [
        "path = '/content/drive/My Drive/Drive1(Own)/Arrow224/train/'\n",
        "classes = os.listdir(path)\n",
        "train_size = 704\n",
        "file_size = 160\n",
        "print(classes)\n",
        "index = 0\n",
        "counter = 0\n",
        "X_train = np.zeros((train_size, int(file_size), int(file_size), 3), dtype = 'uint8')\n",
        "Y_train = np.zeros((train_size), dtype = 'uint8')\n",
        "\n",
        "for i in classes:\n",
        "\n",
        "    print('class: ', i)\n",
        "    files = os.listdir(str(path) + str(i))\n",
        "\n",
        "    for k in files:\n",
        "        img = Image.open(str(path) + str(i) + '/' + str(k))\n",
        "        img.load\n",
        "        img = img.resize((int(file_size), int(file_size)), Image.ANTIALIAS)\n",
        "        npimg = np.asarray( img, dtype=\"uint8\" )\n",
        "        X_train[counter,:,:,:] = npimg\n",
        "        Y_train[counter] = classes.index(i)\n",
        "        counter += 1\n",
        "    \n",
        "      \n",
        "print(counter)\n",
        "\n",
        "np.save('/content/drive/My Drive/Drive1(Own)/Arrow224/X_train.npy', X_train)\n",
        "np.save('/content/drive/My Drive/Drive1(Own)/Arrow224/Y_train.npy', Y_train)\n"
      ],
      "execution_count": 0,
      "outputs": []
    },
    {
      "cell_type": "markdown",
      "metadata": {
        "id": "Ea7SrDGdGrne",
        "colab_type": "text"
      },
      "source": [
        "## Load and Normalize Train and Test Data"
      ]
    },
    {
      "cell_type": "code",
      "metadata": {
        "id": "SZgSCElKIwOl",
        "colab_type": "code",
        "colab": {}
      },
      "source": [
        "trainx = np.load('/content/drive/My Drive/Drive1(Own)/Arrow224/X_train.npy')\n",
        "trainy = np.load('/content/drive/My Drive/Drive1(Own)/Arrow224/Y_train.npy')\n",
        "\n",
        "#testx = np.load('')\n",
        "#testy = np.load('')\n",
        "\n",
        "X_train = trainx/255\n",
        "X_train = X_train.astype('float16')\n",
        "X_train = np.resize(X_train, (train_size, 160, 160, 3))\n",
        "\n",
        "#X_test = testx/255\n",
        "#X_test = X_test.astype('float16')\n",
        "#X_test = np.resize(X_test, (test_size, 64, 64, 3))\n",
        "\n",
        "def convert_to_one_hot(Y, C):\n",
        "    Y = np.eye(C)[Y.reshape(-1)].T\n",
        "    return Y\n",
        "  \n",
        "Y_train = convert_to_one_hot(trainy, 3).T  \n",
        "#Y_test = convert_to_one_hot(testy, 8).T\n",
        "\n",
        "print(X_train.shape, Y_train.shape)\n",
        "#print(X_test.shape, Y_test.shape)"
      ],
      "execution_count": 0,
      "outputs": []
    },
    {
      "cell_type": "markdown",
      "metadata": {
        "id": "YzHUESwfeRn_",
        "colab_type": "text"
      },
      "source": [
        "## Define Training Network"
      ]
    },
    {
      "cell_type": "code",
      "metadata": {
        "id": "ag4LN0YrlzWr",
        "colab_type": "code",
        "colab": {}
      },
      "source": [
        "def net1(X):\n",
        "\n",
        "    gen1 = tf.layers.conv2d(X, 64, 9, 1, padding = 'valid')\n",
        "    A1 = tf.nn.relu(gen1)    \n",
        "    P1 = tf.nn.max_pool(A1, ksize = [1,2,2,1], strides = [1,2,2,1], padding = 'SAME')\n",
        "    \n",
        "    gen2 = tf.layers.conv2d(P1, 64, 3, 1, padding = 'SAME')\n",
        "    A2 = tf.nn.relu(gen2)    \n",
        "    P2 = tf.nn.max_pool(A2, ksize = [1,4,4,1], strides = [1,4,4,1], padding = 'SAME')\n",
        "    \n",
        "    gen3 = tf.layers.conv2d(P2, 1, 5, 1, padding = 'valid')\n",
        "    A3 = tf.nn.tanh(gen3)  \n",
        "    P3 = tf.nn.max_pool(A3, ksize = [1,2,2,1], strides = [1,2,2,1], padding = 'SAME')    \n",
        "    \n",
        "    \n",
        "    P_fl = tf.contrib.layers.flatten(P3)\n",
        "    fc = tf.contrib.layers.fully_connected(P_fl, 3, activation_fn = None)\n",
        "    \n",
        "    return P3, fc"
      ],
      "execution_count": 0,
      "outputs": []
    },
    {
      "cell_type": "code",
      "metadata": {
        "id": "ewtPcuZ4PzYy",
        "colab_type": "code",
        "colab": {}
      },
      "source": [
        "def net2(X):\n",
        "\n",
        "    A1 = tf.nn.relu(X)    \n",
        "    \n",
        "    gen11 = tf.layers.conv2d(A1, 8, 1, 1, padding = 'SAME')\n",
        "\n",
        "    gen21 = tf.layers.conv2d(A1, 8, 1, 1, padding = 'SAME')\n",
        "    gen22 = tf.layers.conv2d(gen21, 16, 3, 1, padding = 'SAME')\n",
        "\n",
        "    gen31 = tf.layers.conv2d(A1, 8, 1, 1, padding = 'SAME')\n",
        "    gen32 = tf.layers.conv2d(gen31, 8, 3, 1, padding = 'SAME')\n",
        "    gen33 = tf.layers.conv2d(gen32, 8, 3, 1, padding = 'SAME')\n",
        "\n",
        "    l4 = tf.keras.layers.concatenate([gen11, gen22, gen33])\n",
        "    l5 = tf.keras.layers.concatenate([l4, A1])\n",
        "    \n",
        "    A6 = tf.nn.relu(l5)    \n",
        "    \n",
        "    P_fl = tf.contrib.layers.flatten(A6)\n",
        "    fc = tf.contrib.layers.fully_connected(P_fl, 3, activation_fn = None)\n",
        "    \n",
        "    return fc"
      ],
      "execution_count": 0,
      "outputs": []
    },
    {
      "cell_type": "markdown",
      "metadata": {
        "id": "xn8f9VuqFql0",
        "colab_type": "text"
      },
      "source": [
        "## Training Model\n"
      ]
    },
    {
      "cell_type": "code",
      "metadata": {
        "id": "Jo2ymlmxDmqH",
        "colab_type": "code",
        "colab": {}
      },
      "source": [
        "\n",
        "learning_rate = 0.0003\n",
        "num_epochs = 1000\n",
        "print('X_train shape', X_train.shape)  \n",
        "print('Y_train shape', Y_train.shape)  \n",
        "#print('X_test shape', X_test.shape)  \n",
        "#print('Y_test shape', Y_test.shape)\n",
        "print('Learning rate:', learning_rate)\n",
        "\n",
        "(m, n_H0, n_W0, n_C0) = X_train.shape             \n",
        "n_y = Y_train.shape[1]                            \n",
        "costs = []                                                            \n",
        "t1 = 0\n",
        "t2 = 0\n",
        "\n",
        "X = tf.placeholder(tf.float32, [None, n_H0, n_W0, n_C0], name = 'X')\n",
        "Y = tf.placeholder(tf.float32, [None, n_y], name = 'Y')\n",
        "\n",
        "P3, Z3 = net2(X)\n",
        "Z4 = net1(P3)\n",
        "\n",
        "cost1 = tf.nn.softmax_cross_entropy_with_logits(logits = Z3, labels = Y)\n",
        "cost1 = tf.reduce_mean(cost1)\n",
        "\n",
        "cost2 = tf.nn.softmax_cross_entropy_with_logits(logits = Z4, labels = Y)\n",
        "cost2 = tf.reduce_mean(cost2)\n",
        "\n",
        "cost = cost1 + cost2\n",
        "\n",
        "\n",
        "optimizer = tf.train.AdamOptimizer(learning_rate = learning_rate).minimize(cost)    \n",
        "init = tf.global_variables_initializer()    \n",
        "saver = tf.train.Saver()\n",
        "\n",
        "with tf.Session() as sess:\n",
        "\n",
        "    sess.run(init)\n",
        "\n",
        "    for epoch in range(num_epochs):\n",
        "        \n",
        "        _ , temp_cost = sess.run([optimizer, cost], feed_dict = {X: X_train, Y: Y_train})\n",
        "        \n",
        "        if epoch % 5 == 0:\n",
        "            costs.append(temp_cost)\n",
        "            t2 = time.time()\n",
        "            print ('Time:', round(t2-t1, 4), \"Cost after epoch %i: %f\" % (epoch, temp_cost))\n",
        "            t1 = time.time()\n",
        "          \n",
        "    print('Saving Model...')\n",
        "    saver.save(sess, '/content/drive/My Drive/Drive1(Own)/Arrow224/model/model.ckpt')\n",
        "    print('Model Saved...')\n",
        "\n",
        "    # plot the cost\n",
        "    plt.plot(np.squeeze(costs))\n",
        "    plt.ylabel('cost')\n",
        "    plt.xlabel('iterations (per tens)')\n",
        "    plt.title(\"Learning rate =\" + str(learning_rate))\n",
        "    plt.show()\n",
        "\n",
        "    # Calculate the correct predictions\n",
        "    predict_op = tf.argmax(Z3, 1)\n",
        "    correct_prediction = tf.equal(predict_op, tf.argmax(Y, 1))\n",
        "    # Calculate accuracy on the test set\n",
        "    accuracy = tf.reduce_mean(tf.cast(correct_prediction, tf.float32))\n",
        "    print('accuracy', accuracy)\n",
        "    train_accuracy = accuracy.eval({X: X_train, Y: Y_train})\n",
        "    #test_accuracy = accuracy.eval({X: X_test, Y: Y_test})\n",
        "    print(\"Train Accuracy:\", train_accuracy)\n",
        "    #print(\"Test Accuracy:\", test_accuracy)\n",
        "                 "
      ],
      "execution_count": 0,
      "outputs": []
    },
    {
      "cell_type": "code",
      "metadata": {
        "id": "cu8HGnKye7_I",
        "colab_type": "code",
        "colab": {}
      },
      "source": [
        "with tf.Session() as sess:\n",
        "  saver.restore(sess, \"/content/drive/My Drive/Drive1(Own)/Arrow224/model/model.ckpt\")\n",
        "  print(\"Model restored.\")\n",
        "  train_accuracy = accuracy.eval({X: X_train, Y: Y_train})\n",
        "  print(train_accuracy)"
      ],
      "execution_count": 0,
      "outputs": []
    },
    {
      "cell_type": "code",
      "metadata": {
        "id": "unQHAgkQx0mR",
        "colab_type": "code",
        "colab": {}
      },
      "source": [
        ""
      ],
      "execution_count": 0,
      "outputs": []
    },
    {
      "cell_type": "code",
      "metadata": {
        "colab_type": "code",
        "id": "9zYjSfMo_R1g",
        "colab": {}
      },
      "source": [
        ""
      ],
      "execution_count": 0,
      "outputs": []
    }
  ]
}